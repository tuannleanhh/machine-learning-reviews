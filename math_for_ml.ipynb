{
 "cells": [
  {
   "cell_type": "markdown",
   "id": "1df8aa4e",
   "metadata": {},
   "source": [
    "# Mathematics required for Machine Learning\n",
    "\n",
    "*These are the maths that I (re)discover on the journey of relearning machine learning from scratch*"
   ]
  },
  {
   "cell_type": "markdown",
   "id": "ad2eadbd",
   "metadata": {},
   "source": [
    "## Linear Algebra"
   ]
  },
  {
   "cell_type": "markdown",
   "id": "0227a48a",
   "metadata": {},
   "source": [
    "### Derivative (chain rule) - Đạo hàm hàm hợp\n",
    "\n",
    "$$ \\frac{d}{dx} [(ax - b) ^ n] = n(ax - b)^n-1 \\cdot \\frac{d}{dx}(ax - b) $$"
   ]
  },
  {
   "cell_type": "markdown",
   "id": "6b670b0e",
   "metadata": {},
   "source": [
    "## Matrix Algebra"
   ]
  },
  {
   "cell_type": "markdown",
   "id": "79f24a02",
   "metadata": {},
   "source": [
    "**1. Transpose rules**\n",
    "\n",
    "$A^T$: transpose matrix of A\n",
    "\n",
    "*Example:*\n",
    "\n",
    "$$ A_{3x2} = \\begin{bmatrix} 1 & 2 & 3 \\\\ 4 & 5 & 6 \\end{bmatrix} \\Rightarrow A^T_{2x3} = \\begin{bmatrix} 1 & 2 \\\\ 3 & 4 \\\\ 5 & 6 \\end{bmatrix} $$ \n",
    "\n",
    "**Rules:**\n",
    "\n",
    "$$\n",
    "(A^T)^T = A \\\\\n",
    "\n",
    "(A + B)^T = A^T + B^T  \\\\\n",
    "\n",
    "(AB)^T = B^T A^T (reverse order)\n",
    "$$"
   ]
  },
  {
   "cell_type": "markdown",
   "id": "9d7308de",
   "metadata": {},
   "source": [
    "**2. Dot product and norm**\n",
    "\n",
    "$$\n",
    "\n",
    "a^Ta = \\sum_{i=1}^{n} a_i^2 = \\| a \\|^2 \\leftarrow squared L2 norm\n",
    "\n",
    "$$ "
   ]
  },
  {
   "cell_type": "markdown",
   "id": "d9d70407",
   "metadata": {},
   "source": [
    "**3. Distributed properties**\n",
    "\n",
    "$$\n",
    "\n",
    "A(B + C) = AB + BC \\\\\n",
    "\n",
    "(A + B)C = AC + BC \\\\\n",
    "\n",
    "c(AB) = (cA)B = A(cB) \\rightarrow c: scalar \n",
    "\n",
    "$$"
   ]
  },
  {
   "cell_type": "markdown",
   "id": "ed88dca6",
   "metadata": {},
   "source": [
    "**4. Identity matrix**\n",
    "\n",
    "$$\n",
    "\n",
    "I \\cdot A = A \\cdot I = A\n",
    "\n",
    "$$"
   ]
  },
  {
   "cell_type": "markdown",
   "id": "7a83cef2",
   "metadata": {},
   "source": [
    "**5. Inverse matrix**\n",
    "\n",
    "$$\n",
    "\n",
    "A^{-1}A = I\n",
    "\n",
    "$$"
   ]
  },
  {
   "cell_type": "markdown",
   "id": "b2e0ee98",
   "metadata": {},
   "source": []
  }
 ],
 "metadata": {
  "kernelspec": {
   "display_name": "ml",
   "language": "python",
   "name": "python3"
  },
  "language_info": {
   "name": "python",
   "version": "3.10.16"
  }
 },
 "nbformat": 4,
 "nbformat_minor": 5
}
