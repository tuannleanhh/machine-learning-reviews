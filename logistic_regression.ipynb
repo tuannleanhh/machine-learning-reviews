{
 "cells": [
  {
   "cell_type": "markdown",
   "id": "8f52c4b5",
   "metadata": {},
   "source": [
    "# Logistic Regression\n",
    "\n",
    "*This notebook is to learn logistic regression from scratch*"
   ]
  },
  {
   "cell_type": "markdown",
   "id": "ad940989",
   "metadata": {},
   "source": [
    "**Overview**\n",
    "\n",
    "Logistic regression is basically just wrap an activation function (usually sigmoid for logistic regression) around a linear regression function\n",
    "\n",
    "$$\n",
    "\n",
    "\\hat{y} = σ(wx + b)\n",
    "\n",
    "$$\n",
    "\n",
    "with $σ(z) = \\frac{1}{1 + e ^ z}$\n",
    "\n",
    "Logistic regression are usually used for clasification problem."
   ]
  },
  {
   "cell_type": "markdown",
   "id": "8c031603",
   "metadata": {},
   "source": []
  },
  {
   "cell_type": "markdown",
   "id": "79a43f93",
   "metadata": {},
   "source": [
    "## Discussion\n",
    "\n",
    "1. Why does it have \"regression\" in the name when it is a solution to classification problem\n",
    "\n",
    "The term \"regression\" comes from how the model is built, since it is the regression equation in the core.\n",
    "\n",
    "By wrapping the sigmoid function, the output turn into probability which is used for classification.\n",
    "\n",
    "The term \"Logistic\" is "
   ]
  },
  {
   "cell_type": "markdown",
   "id": "aee5edf2",
   "metadata": {},
   "source": []
  }
 ],
 "metadata": {
  "kernelspec": {
   "display_name": "ml",
   "language": "python",
   "name": "python3"
  },
  "language_info": {
   "name": "python",
   "version": "3.10.16"
  }
 },
 "nbformat": 4,
 "nbformat_minor": 5
}
